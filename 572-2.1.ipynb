{
 "cells": [
  {
   "cell_type": "code",
   "execution_count": 71,
   "id": "33a252ad",
   "metadata": {},
   "outputs": [],
   "source": [
    "import pandas as pd\n",
    "import numpy as np\n",
    "import matplotlib.pyplot as plt\n",
    "df=pd.read_csv(r\"C:\\21761A0572\\m.CSV\")"
   ]
  },
  {
   "cell_type": "code",
   "execution_count": 72,
   "id": "429c9d12",
   "metadata": {},
   "outputs": [
    {
     "data": {
      "text/html": [
       "<div>\n",
       "<style scoped>\n",
       "    .dataframe tbody tr th:only-of-type {\n",
       "        vertical-align: middle;\n",
       "    }\n",
       "\n",
       "    .dataframe tbody tr th {\n",
       "        vertical-align: top;\n",
       "    }\n",
       "\n",
       "    .dataframe thead th {\n",
       "        text-align: right;\n",
       "    }\n",
       "</style>\n",
       "<table border=\"1\" class=\"dataframe\">\n",
       "  <thead>\n",
       "    <tr style=\"text-align: right;\">\n",
       "      <th></th>\n",
       "      <th>sno</th>\n",
       "      <th>country</th>\n",
       "      <th>age</th>\n",
       "      <th>salary</th>\n",
       "      <th>purchased</th>\n",
       "    </tr>\n",
       "  </thead>\n",
       "  <tbody>\n",
       "    <tr>\n",
       "      <th>0</th>\n",
       "      <td>0</td>\n",
       "      <td>france</td>\n",
       "      <td>44.0</td>\n",
       "      <td>72000.0</td>\n",
       "      <td>no</td>\n",
       "    </tr>\n",
       "    <tr>\n",
       "      <th>1</th>\n",
       "      <td>1</td>\n",
       "      <td>spain</td>\n",
       "      <td>27.0</td>\n",
       "      <td>48000.0</td>\n",
       "      <td>yes</td>\n",
       "    </tr>\n",
       "    <tr>\n",
       "      <th>2</th>\n",
       "      <td>2</td>\n",
       "      <td>germany</td>\n",
       "      <td>30.0</td>\n",
       "      <td>54000.0</td>\n",
       "      <td>no</td>\n",
       "    </tr>\n",
       "    <tr>\n",
       "      <th>3</th>\n",
       "      <td>3</td>\n",
       "      <td>spain</td>\n",
       "      <td>38.0</td>\n",
       "      <td>61000.0</td>\n",
       "      <td>no</td>\n",
       "    </tr>\n",
       "    <tr>\n",
       "      <th>4</th>\n",
       "      <td>4</td>\n",
       "      <td>germany</td>\n",
       "      <td>40.0</td>\n",
       "      <td>NaN</td>\n",
       "      <td>yes</td>\n",
       "    </tr>\n",
       "    <tr>\n",
       "      <th>5</th>\n",
       "      <td>5</td>\n",
       "      <td>france</td>\n",
       "      <td>35.0</td>\n",
       "      <td>58000.0</td>\n",
       "      <td>yes</td>\n",
       "    </tr>\n",
       "    <tr>\n",
       "      <th>6</th>\n",
       "      <td>6</td>\n",
       "      <td>spain</td>\n",
       "      <td>NaN</td>\n",
       "      <td>52000.0</td>\n",
       "      <td>no</td>\n",
       "    </tr>\n",
       "    <tr>\n",
       "      <th>7</th>\n",
       "      <td>7</td>\n",
       "      <td>france</td>\n",
       "      <td>48.0</td>\n",
       "      <td>79000.0</td>\n",
       "      <td>yes</td>\n",
       "    </tr>\n",
       "    <tr>\n",
       "      <th>8</th>\n",
       "      <td>8</td>\n",
       "      <td>germany</td>\n",
       "      <td>50.0</td>\n",
       "      <td>83000.0</td>\n",
       "      <td>no</td>\n",
       "    </tr>\n",
       "    <tr>\n",
       "      <th>9</th>\n",
       "      <td>9</td>\n",
       "      <td>france</td>\n",
       "      <td>37.0</td>\n",
       "      <td>67000.0</td>\n",
       "      <td>yes</td>\n",
       "    </tr>\n",
       "  </tbody>\n",
       "</table>\n",
       "</div>"
      ],
      "text/plain": [
       "   sno  country   age   salary purchased\n",
       "0    0   france  44.0  72000.0        no\n",
       "1    1    spain  27.0  48000.0       yes\n",
       "2    2  germany  30.0  54000.0        no\n",
       "3    3    spain  38.0  61000.0        no\n",
       "4    4  germany  40.0      NaN       yes\n",
       "5    5   france  35.0  58000.0       yes\n",
       "6    6    spain   NaN  52000.0        no\n",
       "7    7   france  48.0  79000.0       yes\n",
       "8    8  germany  50.0  83000.0        no\n",
       "9    9   france  37.0  67000.0       yes"
      ]
     },
     "execution_count": 72,
     "metadata": {},
     "output_type": "execute_result"
    }
   ],
   "source": [
    "df"
   ]
  },
  {
   "cell_type": "code",
   "execution_count": 73,
   "id": "f925dc50",
   "metadata": {},
   "outputs": [
    {
     "data": {
      "text/plain": [
       "<bound method DataFrame.info of    sno  country   age   salary purchased\n",
       "0    0   france  44.0  72000.0        no\n",
       "1    1    spain  27.0  48000.0       yes\n",
       "2    2  germany  30.0  54000.0        no\n",
       "3    3    spain  38.0  61000.0        no\n",
       "4    4  germany  40.0      NaN       yes\n",
       "5    5   france  35.0  58000.0       yes\n",
       "6    6    spain   NaN  52000.0        no\n",
       "7    7   france  48.0  79000.0       yes\n",
       "8    8  germany  50.0  83000.0        no\n",
       "9    9   france  37.0  67000.0       yes>"
      ]
     },
     "execution_count": 73,
     "metadata": {},
     "output_type": "execute_result"
    }
   ],
   "source": [
    "df.info"
   ]
  },
  {
   "cell_type": "code",
   "execution_count": 74,
   "id": "0f08c550",
   "metadata": {},
   "outputs": [
    {
     "name": "stdout",
     "output_type": "stream",
     "text": [
      "<class 'pandas.core.frame.DataFrame'>\n",
      "RangeIndex: 10 entries, 0 to 9\n",
      "Data columns (total 5 columns):\n",
      " #   Column     Non-Null Count  Dtype  \n",
      "---  ------     --------------  -----  \n",
      " 0   sno        10 non-null     int64  \n",
      " 1   country    10 non-null     object \n",
      " 2   age        9 non-null      float64\n",
      " 3   salary     9 non-null      float64\n",
      " 4   purchased  10 non-null     object \n",
      "dtypes: float64(2), int64(1), object(2)\n",
      "memory usage: 528.0+ bytes\n"
     ]
    }
   ],
   "source": [
    "df.info()"
   ]
  },
  {
   "cell_type": "code",
   "execution_count": 97,
   "id": "41bfcf67",
   "metadata": {},
   "outputs": [],
   "source": [
    "x= df.iloc[:, :-1].values  \n",
    "  "
   ]
  },
  {
   "cell_type": "code",
   "execution_count": 98,
   "id": "38355395",
   "metadata": {},
   "outputs": [
    {
     "data": {
      "text/plain": [
       "array([[0, 'france', 44.0, 72000.0],\n",
       "       [1, 'spain', 27.0, 48000.0],\n",
       "       [2, 'germany', 30.0, 54000.0],\n",
       "       [3, 'spain', 38.0, 61000.0],\n",
       "       [4, 'germany', 40.0, nan],\n",
       "       [5, 'france', 35.0, 58000.0],\n",
       "       [6, 'spain', nan, 52000.0],\n",
       "       [7, 'france', 48.0, 79000.0],\n",
       "       [8, 'germany', 50.0, 83000.0],\n",
       "       [9, 'france', 37.0, 67000.0]], dtype=object)"
      ]
     },
     "execution_count": 98,
     "metadata": {},
     "output_type": "execute_result"
    }
   ],
   "source": [
    "x"
   ]
  },
  {
   "cell_type": "code",
   "execution_count": 99,
   "id": "370cfd6b",
   "metadata": {},
   "outputs": [
    {
     "data": {
      "text/plain": [
       "array([[0, 'france', 44.0, 72000.0],\n",
       "       [1, 'spain', 27.0, 48000.0],\n",
       "       [2, 'germany', 30.0, 54000.0],\n",
       "       [3, 'spain', 38.0, 61000.0],\n",
       "       [4, 'germany', 40.0, 63777.77777777778],\n",
       "       [5, 'france', 35.0, 58000.0],\n",
       "       [6, 'spain', 38.77777777777778, 52000.0],\n",
       "       [7, 'france', 48.0, 79000.0],\n",
       "       [8, 'germany', 50.0, 83000.0],\n",
       "       [9, 'france', 37.0, 67000.0]], dtype=object)"
      ]
     },
     "execution_count": 99,
     "metadata": {},
     "output_type": "execute_result"
    }
   ],
   "source": [
    "from sklearn.impute import SimpleImputer  \n",
    "imputer= SimpleImputer(missing_values =np.NaN, strategy='mean')  \n",
    "imputer= imputer.fit(x[:, 2:4])  \n",
    "x[:, 2:4]= imputer.transform(x[:, 2:4])  \n",
    "x"
   ]
  },
  {
   "cell_type": "markdown",
   "id": "43aa6a2a",
   "metadata": {},
   "source": [
    "# 1. handling categorical data "
   ]
  },
  {
   "cell_type": "markdown",
   "id": "d5a0d951",
   "metadata": {},
   "source": [
    "# using label encoder"
   ]
  },
  {
   "cell_type": "code",
   "execution_count": 100,
   "id": "0b30ec2a",
   "metadata": {},
   "outputs": [],
   "source": [
    "from sklearn.preprocessing import LabelEncoder  \n",
    "label_encoder_x= LabelEncoder()  \n",
    "x[:, 1]= label_encoder_x.fit_transform(x[:, 1])  "
   ]
  },
  {
   "cell_type": "code",
   "execution_count": 101,
   "id": "66b22c8c",
   "metadata": {},
   "outputs": [
    {
     "data": {
      "text/plain": [
       "array([[0, 0, 44.0, 72000.0],\n",
       "       [1, 2, 27.0, 48000.0],\n",
       "       [2, 1, 30.0, 54000.0],\n",
       "       [3, 2, 38.0, 61000.0],\n",
       "       [4, 1, 40.0, 63777.77777777778],\n",
       "       [5, 0, 35.0, 58000.0],\n",
       "       [6, 2, 38.77777777777778, 52000.0],\n",
       "       [7, 0, 48.0, 79000.0],\n",
       "       [8, 1, 50.0, 83000.0],\n",
       "       [9, 0, 37.0, 67000.0]], dtype=object)"
      ]
     },
     "execution_count": 101,
     "metadata": {},
     "output_type": "execute_result"
    }
   ],
   "source": [
    "x"
   ]
  },
  {
   "cell_type": "code",
   "execution_count": 102,
   "id": "7d739a52",
   "metadata": {},
   "outputs": [],
   "source": [
    "y= df.iloc[:, 4] \n",
    "  "
   ]
  },
  {
   "cell_type": "code",
   "execution_count": 103,
   "id": "db8d12c4",
   "metadata": {},
   "outputs": [
    {
     "data": {
      "text/plain": [
       "0     no\n",
       "1    yes\n",
       "2     no\n",
       "3     no\n",
       "4    yes\n",
       "5    yes\n",
       "6     no\n",
       "7    yes\n",
       "8     no\n",
       "9    yes\n",
       "Name: purchased, dtype: object"
      ]
     },
     "execution_count": 103,
     "metadata": {},
     "output_type": "execute_result"
    }
   ],
   "source": [
    "y"
   ]
  },
  {
   "cell_type": "code",
   "execution_count": 104,
   "id": "147880f5",
   "metadata": {},
   "outputs": [],
   "source": [
    "labelencoder_y= LabelEncoder()  \n",
    "y= labelencoder_y.fit_transform(y)  "
   ]
  },
  {
   "cell_type": "code",
   "execution_count": 105,
   "id": "2aa0891d",
   "metadata": {},
   "outputs": [
    {
     "data": {
      "text/plain": [
       "array([0, 1, 0, 0, 1, 1, 0, 1, 0, 1])"
      ]
     },
     "execution_count": 105,
     "metadata": {},
     "output_type": "execute_result"
    }
   ],
   "source": [
    "y"
   ]
  },
  {
   "cell_type": "markdown",
   "id": "910f7a8e",
   "metadata": {},
   "source": [
    "# using one hot encoder dummies"
   ]
  },
  {
   "cell_type": "code",
   "execution_count": 106,
   "id": "de9e9752",
   "metadata": {},
   "outputs": [],
   "source": [
    "from sklearn.preprocessing import OneHotEncoder\n"
   ]
  },
  {
   "cell_type": "code",
   "execution_count": 107,
   "id": "c4837a2f",
   "metadata": {},
   "outputs": [],
   "source": [
    "ohe=pd.get_dummies(df['country'])\n"
   ]
  },
  {
   "cell_type": "code",
   "execution_count": 108,
   "id": "901ccd5b",
   "metadata": {},
   "outputs": [
    {
     "data": {
      "text/html": [
       "<div>\n",
       "<style scoped>\n",
       "    .dataframe tbody tr th:only-of-type {\n",
       "        vertical-align: middle;\n",
       "    }\n",
       "\n",
       "    .dataframe tbody tr th {\n",
       "        vertical-align: top;\n",
       "    }\n",
       "\n",
       "    .dataframe thead th {\n",
       "        text-align: right;\n",
       "    }\n",
       "</style>\n",
       "<table border=\"1\" class=\"dataframe\">\n",
       "  <thead>\n",
       "    <tr style=\"text-align: right;\">\n",
       "      <th></th>\n",
       "      <th>france</th>\n",
       "      <th>germany</th>\n",
       "      <th>spain</th>\n",
       "    </tr>\n",
       "  </thead>\n",
       "  <tbody>\n",
       "    <tr>\n",
       "      <th>0</th>\n",
       "      <td>1</td>\n",
       "      <td>0</td>\n",
       "      <td>0</td>\n",
       "    </tr>\n",
       "    <tr>\n",
       "      <th>1</th>\n",
       "      <td>0</td>\n",
       "      <td>0</td>\n",
       "      <td>1</td>\n",
       "    </tr>\n",
       "    <tr>\n",
       "      <th>2</th>\n",
       "      <td>0</td>\n",
       "      <td>1</td>\n",
       "      <td>0</td>\n",
       "    </tr>\n",
       "    <tr>\n",
       "      <th>3</th>\n",
       "      <td>0</td>\n",
       "      <td>0</td>\n",
       "      <td>1</td>\n",
       "    </tr>\n",
       "    <tr>\n",
       "      <th>4</th>\n",
       "      <td>0</td>\n",
       "      <td>1</td>\n",
       "      <td>0</td>\n",
       "    </tr>\n",
       "    <tr>\n",
       "      <th>5</th>\n",
       "      <td>1</td>\n",
       "      <td>0</td>\n",
       "      <td>0</td>\n",
       "    </tr>\n",
       "    <tr>\n",
       "      <th>6</th>\n",
       "      <td>0</td>\n",
       "      <td>0</td>\n",
       "      <td>1</td>\n",
       "    </tr>\n",
       "    <tr>\n",
       "      <th>7</th>\n",
       "      <td>1</td>\n",
       "      <td>0</td>\n",
       "      <td>0</td>\n",
       "    </tr>\n",
       "    <tr>\n",
       "      <th>8</th>\n",
       "      <td>0</td>\n",
       "      <td>1</td>\n",
       "      <td>0</td>\n",
       "    </tr>\n",
       "    <tr>\n",
       "      <th>9</th>\n",
       "      <td>1</td>\n",
       "      <td>0</td>\n",
       "      <td>0</td>\n",
       "    </tr>\n",
       "  </tbody>\n",
       "</table>\n",
       "</div>"
      ],
      "text/plain": [
       "   france  germany  spain\n",
       "0       1        0      0\n",
       "1       0        0      1\n",
       "2       0        1      0\n",
       "3       0        0      1\n",
       "4       0        1      0\n",
       "5       1        0      0\n",
       "6       0        0      1\n",
       "7       1        0      0\n",
       "8       0        1      0\n",
       "9       1        0      0"
      ]
     },
     "execution_count": 108,
     "metadata": {},
     "output_type": "execute_result"
    }
   ],
   "source": [
    "ohe"
   ]
  },
  {
   "cell_type": "code",
   "execution_count": 109,
   "id": "51cf93a2",
   "metadata": {},
   "outputs": [
    {
     "data": {
      "text/plain": [
       "array([[1., 0.],\n",
       "       [0., 1.],\n",
       "       [1., 0.],\n",
       "       [1., 0.],\n",
       "       [0., 1.],\n",
       "       [0., 1.],\n",
       "       [1., 0.],\n",
       "       [0., 1.],\n",
       "       [1., 0.],\n",
       "       [0., 1.]])"
      ]
     },
     "execution_count": 109,
     "metadata": {},
     "output_type": "execute_result"
    }
   ],
   "source": [
    "from sklearn.preprocessing import OneHotEncoder\n",
    "oy=OneHotEncoder()\n",
    "oy.fit_transform(df.purchased.values.reshape(-1,1)).toarray()"
   ]
  },
  {
   "cell_type": "markdown",
   "id": "b8ae2777",
   "metadata": {},
   "source": [
    "# 2.train & test"
   ]
  },
  {
   "cell_type": "code",
   "execution_count": 115,
   "id": "c7fca6d2",
   "metadata": {},
   "outputs": [],
   "source": [
    "from sklearn.model_selection import train_test_split  \n",
    "x_train, x_test, y_train, y_test= train_test_split(x, y, test_size= 0.2, random_state=0)  "
   ]
  },
  {
   "cell_type": "code",
   "execution_count": 116,
   "id": "6a981004",
   "metadata": {},
   "outputs": [
    {
     "data": {
      "text/plain": [
       "array([[2, 1, 30.0, 54000.0],\n",
       "       [8, 1, 50.0, 83000.0]], dtype=object)"
      ]
     },
     "execution_count": 116,
     "metadata": {},
     "output_type": "execute_result"
    }
   ],
   "source": [
    "x_test"
   ]
  },
  {
   "cell_type": "code",
   "execution_count": 117,
   "id": "334d011a",
   "metadata": {},
   "outputs": [
    {
     "data": {
      "text/plain": [
       "array([[4, 1, 40.0, 63777.77777777778],\n",
       "       [9, 0, 37.0, 67000.0],\n",
       "       [1, 2, 27.0, 48000.0],\n",
       "       [6, 2, 38.77777777777778, 52000.0],\n",
       "       [7, 0, 48.0, 79000.0],\n",
       "       [3, 2, 38.0, 61000.0],\n",
       "       [0, 0, 44.0, 72000.0],\n",
       "       [5, 0, 35.0, 58000.0]], dtype=object)"
      ]
     },
     "execution_count": 117,
     "metadata": {},
     "output_type": "execute_result"
    }
   ],
   "source": [
    "x_train"
   ]
  },
  {
   "cell_type": "code",
   "execution_count": 118,
   "id": "e97112c5",
   "metadata": {},
   "outputs": [
    {
     "data": {
      "text/plain": [
       "array([1, 1, 1, 0, 1, 0, 0, 1])"
      ]
     },
     "execution_count": 118,
     "metadata": {},
     "output_type": "execute_result"
    }
   ],
   "source": [
    "y_train"
   ]
  },
  {
   "cell_type": "code",
   "execution_count": 119,
   "id": "df81b0d1",
   "metadata": {},
   "outputs": [
    {
     "data": {
      "text/plain": [
       "array([0, 0])"
      ]
     },
     "execution_count": 119,
     "metadata": {},
     "output_type": "execute_result"
    }
   ],
   "source": [
    "y_test"
   ]
  },
  {
   "cell_type": "markdown",
   "id": "7f6d9e71",
   "metadata": {},
   "source": [
    "# 3.scaling the features"
   ]
  },
  {
   "cell_type": "code",
   "execution_count": 120,
   "id": "02725fbc",
   "metadata": {},
   "outputs": [],
   "source": [
    "from sklearn.preprocessing import StandardScaler  \n",
    "g = StandardScaler()  \n",
    "x_train= g.fit_transform(x_train)  \n",
    "x_test= g.transform(x_test)  "
   ]
  },
  {
   "cell_type": "code",
   "execution_count": 121,
   "id": "20912d8a",
   "metadata": {},
   "outputs": [
    {
     "data": {
      "text/plain": [
       "array([[-0.13271219,  0.13483997,  0.26306757,  0.12381479],\n",
       "       [ 1.63678363, -0.94387981, -0.25350148,  0.46175632],\n",
       "       [-1.19440968,  1.21355975, -1.97539832, -1.53093341],\n",
       "       [ 0.57508614,  1.21355975,  0.05261351, -1.11141978],\n",
       "       [ 0.92898531, -0.94387981,  1.64058505,  1.7202972 ],\n",
       "       [-0.48661135,  1.21355975, -0.0813118 , -0.16751412],\n",
       "       [-1.54830884, -0.94387981,  0.95182631,  0.98614835],\n",
       "       [ 0.22118698, -0.94387981, -0.59788085, -0.48214934]])"
      ]
     },
     "execution_count": 121,
     "metadata": {},
     "output_type": "execute_result"
    }
   ],
   "source": [
    "x_train"
   ]
  },
  {
   "cell_type": "code",
   "execution_count": 122,
   "id": "16ec08c8",
   "metadata": {},
   "outputs": [
    {
     "data": {
      "text/plain": [
       "array([[-0.84051051,  0.13483997, -1.45882927, -0.90166297],\n",
       "       [ 1.28288447,  0.13483997,  1.98496442,  2.13981082]])"
      ]
     },
     "execution_count": 122,
     "metadata": {},
     "output_type": "execute_result"
    }
   ],
   "source": [
    "x_test"
   ]
  },
  {
   "cell_type": "code",
   "execution_count": 123,
   "id": "1652686d",
   "metadata": {},
   "outputs": [
    {
     "data": {
      "text/plain": [
       "array([1, 1, 1, 0, 1, 0, 0, 1])"
      ]
     },
     "execution_count": 123,
     "metadata": {},
     "output_type": "execute_result"
    }
   ],
   "source": [
    "y_train"
   ]
  },
  {
   "cell_type": "code",
   "execution_count": null,
   "id": "bcbb2a24",
   "metadata": {},
   "outputs": [],
   "source": []
  }
 ],
 "metadata": {
  "kernelspec": {
   "display_name": "Python 3 (ipykernel)",
   "language": "python",
   "name": "python3"
  },
  "language_info": {
   "codemirror_mode": {
    "name": "ipython",
    "version": 3
   },
   "file_extension": ".py",
   "mimetype": "text/x-python",
   "name": "python",
   "nbconvert_exporter": "python",
   "pygments_lexer": "ipython3",
   "version": "3.9.13"
  }
 },
 "nbformat": 4,
 "nbformat_minor": 5
}
